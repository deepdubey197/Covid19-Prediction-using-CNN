{
  "nbformat": 4,
  "nbformat_minor": 0,
  "metadata": {
    "colab": {
      "provenance": []
    },
    "kernelspec": {
      "name": "python3",
      "display_name": "Python 3"
    },
    "language_info": {
      "name": "python"
    }
  },
  "cells": [
    {
      "cell_type": "code",
      "execution_count": null,
      "metadata": {
        "id": "NrSy4_ws4vMv",
        "colab": {
          "base_uri": "https://localhost:8080/"
        },
        "outputId": "037bcb4c-c3c8-41dc-de87-b01c943dde98"
      },
      "outputs": [
        {
          "output_type": "stream",
          "name": "stdout",
          "text": [
            "Mounted at /content/drive\n"
          ]
        }
      ],
      "source": [
        "from google.colab import drive\n",
        "drive.mount('/content/drive')\n"
      ]
    },
    {
      "cell_type": "code",
      "source": [
        "\n",
        "import pandas as pd\n",
        "import tensorflow as tf\n",
        "from keras.models import Sequential\n",
        "from keras.layers import Conv2D\n",
        "from keras.layers import MaxPooling2D\n",
        "from keras.layers import Flatten\n",
        "from keras.layers import Dense\n",
        "\n",
        "Classifier=Sequential();\n",
        "\n",
        "Classifier.add(Conv2D(64,(3,3),input_shape=(64,64,3),activation='relu'))\n",
        "\n",
        "Classifier.add(MaxPooling2D(pool_size=(2,2)))\n",
        "\n",
        "Classifier.add(Conv2D(32,(3,3),activation='relu'))\n",
        "\n",
        "Classifier.add(MaxPooling2D(pool_size=(2,2)))\n",
        "\n",
        "Classifier.add(Flatten())\n",
        "\n",
        "Classifier.add(Dense(units=104, activation='relu'))\n",
        "Classifier.add(Dense(units=1, activation='sigmoid'))\n",
        "\n",
        "Classifier.compile(optimizer ='adam',loss='binary_crossentropy',metrics=['accuracy'])\n",
        "\n",
        "from keras.preprocessing.image import ImageDataGenerator\n",
        "\n",
        "train_datagen = ImageDataGenerator(rescale = 1./255,\n",
        "                                   shear_range = 0.4,\n",
        "                                   zoom_range = 0.3,\n",
        "                                   horizontal_flip = True)\n",
        "\n",
        "test_datagen = ImageDataGenerator(rescale = 1./255)\n",
        "\n",
        "training_set = train_datagen.flow_from_directory('/content/drive/MyDrive/Coronavirus Dataset/xray_dataset_covid19/train',\n",
        "                                                 target_size = (64, 64),\n",
        "                                                 batch_size = 4,\n",
        "                                                 class_mode = 'binary')\n",
        "\n",
        "test_set = test_datagen.flow_from_directory('/content/drive/MyDrive/Coronavirus Dataset/xray_dataset_covid19/test',\n",
        "                                            target_size = (64, 64),\n",
        "                                            batch_size = 4,\n",
        "                                            class_mode = 'binary')\n",
        "\n",
        "\n",
        "Classifier.fit_generator(training_set,\n",
        "                         steps_per_epoch = 40,\n",
        "                         epochs = 5,\n",
        "                         validation_data = test_set,\n",
        "                         validation_steps = 8)\n",
        "import numpy as np\n",
        "from tensorflow.keras.preprocessing import image\n",
        "test_image = image.load_img('/content/drive/MyDrive/Coronavirus Dataset/xray_dataset_covid19/covid_or_normal.jpeg',target_size=(64,64))\n",
        "test_image = image.img_to_array(test_image)\n",
        "test_image = np.expand_dims(test_image,axis=0)\n",
        "result = Classifier.predict(test_image)\n",
        "training_set.class_indices\n",
        "if result[0][0] == 1:\n",
        "    prediction = 'Normal'\n",
        "    print(prediction)\n",
        "else:\n",
        "    prediction = 'COVID'\n",
        "    print(prediction  )\n"
      ],
      "metadata": {
        "id": "OvE-QoHnfawZ",
        "colab": {
          "base_uri": "https://localhost:8080/"
        },
        "outputId": "1395cc1f-a958-4b68-9232-6d838db30c9b"
      },
      "execution_count": null,
      "outputs": [
        {
          "output_type": "stream",
          "name": "stdout",
          "text": [
            "Found 148 images belonging to 2 classes.\n",
            "Found 40 images belonging to 2 classes.\n"
          ]
        },
        {
          "output_type": "stream",
          "name": "stderr",
          "text": [
            "<ipython-input-2-1be3af5d4719>:46: UserWarning: `Model.fit_generator` is deprecated and will be removed in a future version. Please use `Model.fit`, which supports generators.\n",
            "  Classifier.fit_generator(training_set,\n"
          ]
        },
        {
          "output_type": "stream",
          "name": "stdout",
          "text": [
            "Epoch 1/5\n",
            "37/40 [==========================>...] - ETA: 4s - loss: 0.7101 - accuracy: 0.5676"
          ]
        },
        {
          "output_type": "stream",
          "name": "stderr",
          "text": [
            "WARNING:tensorflow:Your input ran out of data; interrupting training. Make sure that your dataset or generator can generate at least `steps_per_epoch * epochs` batches (in this case, 200 batches). You may need to use the repeat() function when building your dataset.\n"
          ]
        },
        {
          "output_type": "stream",
          "name": "stdout",
          "text": [
            "40/40 [==============================] - 80s 2s/step - loss: 0.7101 - accuracy: 0.5676 - val_loss: 0.6247 - val_accuracy: 1.0000\n",
            "1/1 [==============================] - 0s 107ms/step\n",
            "COVID\n"
          ]
        }
      ]
    },
    {
      "cell_type": "code",
      "source": [
        "training_set.head()"
      ],
      "metadata": {
        "id": "Yj0JftvkQTmj",
        "colab": {
          "base_uri": "https://localhost:8080/",
          "height": 166
        },
        "outputId": "03e329ef-6ad0-4120-bd21-1a18553475e2"
      },
      "execution_count": null,
      "outputs": [
        {
          "output_type": "error",
          "ename": "AttributeError",
          "evalue": "ignored",
          "traceback": [
            "\u001b[0;31m---------------------------------------------------------------------------\u001b[0m",
            "\u001b[0;31mAttributeError\u001b[0m                            Traceback (most recent call last)",
            "\u001b[0;32m<ipython-input-3-602eb8747126>\u001b[0m in \u001b[0;36m<cell line: 1>\u001b[0;34m()\u001b[0m\n\u001b[0;32m----> 1\u001b[0;31m \u001b[0mtraining_set\u001b[0m\u001b[0;34m.\u001b[0m\u001b[0mhead\u001b[0m\u001b[0;34m(\u001b[0m\u001b[0;34m)\u001b[0m\u001b[0;34m\u001b[0m\u001b[0;34m\u001b[0m\u001b[0m\n\u001b[0m",
            "\u001b[0;31mAttributeError\u001b[0m: 'DirectoryIterator' object has no attribute 'head'"
          ]
        }
      ]
    },
    {
      "cell_type": "code",
      "source": [],
      "metadata": {
        "id": "J-uyESMGL3HD"
      },
      "execution_count": null,
      "outputs": []
    }
  ]
}